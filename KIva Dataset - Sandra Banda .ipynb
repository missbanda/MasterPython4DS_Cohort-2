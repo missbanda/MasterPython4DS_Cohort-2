{
 "cells": [
  {
   "cell_type": "markdown",
   "metadata": {},
   "source": [
    " #                                         KIVA ANALYSIS"
   ]
  },
  {
   "cell_type": "markdown",
   "metadata": {},
   "source": [
    "This analysis is to study the kind of borrowers that Kiva.org has.Kiva.org is an online crowdfunding platform to extend financial services to poor and financially excluded people around the world. Kiva lenders have provided over $1 billion dollars in loans to over 2 million people. In order to set investment priorities, help inform lenders, and understand their target communities, knowing the level of poverty of each borrower is critical. However, this requires inference based on a limited set of information for each borrower. \n",
    "\n",
    "At the end of the analysis we hope to have a detailed understanding of the organization's lending patterns. "
   ]
  },
  {
   "cell_type": "markdown",
   "metadata": {},
   "source": [
    " "
   ]
  },
  {
   "cell_type": "markdown",
   "metadata": {},
   "source": [
    "# Import the data"
   ]
  },
  {
   "cell_type": "markdown",
   "metadata": {},
   "source": [
    "Import the necessary python libraries. "
   ]
  },
  {
   "cell_type": "code",
   "execution_count": 1,
   "metadata": {},
   "outputs": [],
   "source": [
    "import numpy as np\n",
    "import pandas as pd \n",
    "import matplotlib.pyplot as plt\n",
    "import seaborn as sns\n",
    "\n",
    "%matplotlib inline"
   ]
  },
  {
   "cell_type": "markdown",
   "metadata": {},
   "source": [
    "# Load the data"
   ]
  },
  {
   "cell_type": "markdown",
   "metadata": {},
   "source": [
    "The .csv files the information of the lenders in terms of gender, region, loan amount, repayment time etc. "
   ]
  },
  {
   "cell_type": "code",
   "execution_count": 2,
   "metadata": {},
   "outputs": [],
   "source": [
    "#The loan information \n",
    "loan_data = pd.read_csv('kiva_loans.csv')\n",
    "\n",
    "#The region locations\n",
    "region_data = pd.read_csv('datasets_12414_19728_kiva_mpi_region_locations.csv')\n",
    "\n",
    "#The loan theme \n",
    "loan_theme = pd.read_csv('loan_theme_ids.csv')\n",
    "\n",
    "#Loan theme by region\n",
    "loan_theme_region = pd.read_csv('loan_themes_by_region.csv')\n"
   ]
  },
  {
   "cell_type": "markdown",
   "metadata": {},
   "source": [
    "# Summary display of each dataframe\n"
   ]
  },
  {
   "cell_type": "code",
   "execution_count": 3,
   "metadata": {
    "scrolled": true
   },
   "outputs": [
    {
     "data": {
      "text/html": [
       "<div>\n",
       "<style scoped>\n",
       "    .dataframe tbody tr th:only-of-type {\n",
       "        vertical-align: middle;\n",
       "    }\n",
       "\n",
       "    .dataframe tbody tr th {\n",
       "        vertical-align: top;\n",
       "    }\n",
       "\n",
       "    .dataframe thead th {\n",
       "        text-align: right;\n",
       "    }\n",
       "</style>\n",
       "<table border=\"1\" class=\"dataframe\">\n",
       "  <thead>\n",
       "    <tr style=\"text-align: right;\">\n",
       "      <th></th>\n",
       "      <th>id</th>\n",
       "      <th>funded_amount</th>\n",
       "      <th>loan_amount</th>\n",
       "      <th>activity</th>\n",
       "      <th>sector</th>\n",
       "      <th>use</th>\n",
       "      <th>country_code</th>\n",
       "      <th>country</th>\n",
       "      <th>region</th>\n",
       "      <th>currency</th>\n",
       "      <th>partner_id</th>\n",
       "      <th>posted_time</th>\n",
       "      <th>disbursed_time</th>\n",
       "      <th>funded_time</th>\n",
       "      <th>term_in_months</th>\n",
       "      <th>lender_count</th>\n",
       "      <th>tags</th>\n",
       "      <th>borrower_genders</th>\n",
       "      <th>repayment_interval</th>\n",
       "      <th>date</th>\n",
       "    </tr>\n",
       "  </thead>\n",
       "  <tbody>\n",
       "    <tr>\n",
       "      <th>0</th>\n",
       "      <td>653051</td>\n",
       "      <td>300.0</td>\n",
       "      <td>300.0</td>\n",
       "      <td>Fruits &amp; Vegetables</td>\n",
       "      <td>Food</td>\n",
       "      <td>To buy seasonal, fresh fruits to sell.</td>\n",
       "      <td>PK</td>\n",
       "      <td>Pakistan</td>\n",
       "      <td>Lahore</td>\n",
       "      <td>PKR</td>\n",
       "      <td>247.0</td>\n",
       "      <td>2014-01-01 06:12:39+00:00</td>\n",
       "      <td>2013-12-17 08:00:00+00:00</td>\n",
       "      <td>2014-01-02 10:06:32+00:00</td>\n",
       "      <td>12.0</td>\n",
       "      <td>12</td>\n",
       "      <td>NaN</td>\n",
       "      <td>female</td>\n",
       "      <td>irregular</td>\n",
       "      <td>2014-01-01</td>\n",
       "    </tr>\n",
       "    <tr>\n",
       "      <th>1</th>\n",
       "      <td>653053</td>\n",
       "      <td>575.0</td>\n",
       "      <td>575.0</td>\n",
       "      <td>Rickshaw</td>\n",
       "      <td>Transportation</td>\n",
       "      <td>to repair and maintain the auto rickshaw used ...</td>\n",
       "      <td>PK</td>\n",
       "      <td>Pakistan</td>\n",
       "      <td>Lahore</td>\n",
       "      <td>PKR</td>\n",
       "      <td>247.0</td>\n",
       "      <td>2014-01-01 06:51:08+00:00</td>\n",
       "      <td>2013-12-17 08:00:00+00:00</td>\n",
       "      <td>2014-01-02 09:17:23+00:00</td>\n",
       "      <td>11.0</td>\n",
       "      <td>14</td>\n",
       "      <td>NaN</td>\n",
       "      <td>female, female</td>\n",
       "      <td>irregular</td>\n",
       "      <td>2014-01-01</td>\n",
       "    </tr>\n",
       "    <tr>\n",
       "      <th>2</th>\n",
       "      <td>653068</td>\n",
       "      <td>150.0</td>\n",
       "      <td>150.0</td>\n",
       "      <td>Transportation</td>\n",
       "      <td>Transportation</td>\n",
       "      <td>To repair their old cycle-van and buy another ...</td>\n",
       "      <td>IN</td>\n",
       "      <td>India</td>\n",
       "      <td>Maynaguri</td>\n",
       "      <td>INR</td>\n",
       "      <td>334.0</td>\n",
       "      <td>2014-01-01 09:58:07+00:00</td>\n",
       "      <td>2013-12-17 08:00:00+00:00</td>\n",
       "      <td>2014-01-01 16:01:36+00:00</td>\n",
       "      <td>43.0</td>\n",
       "      <td>6</td>\n",
       "      <td>user_favorite, user_favorite</td>\n",
       "      <td>female</td>\n",
       "      <td>bullet</td>\n",
       "      <td>2014-01-01</td>\n",
       "    </tr>\n",
       "    <tr>\n",
       "      <th>3</th>\n",
       "      <td>653063</td>\n",
       "      <td>200.0</td>\n",
       "      <td>200.0</td>\n",
       "      <td>Embroidery</td>\n",
       "      <td>Arts</td>\n",
       "      <td>to purchase an embroidery machine and a variet...</td>\n",
       "      <td>PK</td>\n",
       "      <td>Pakistan</td>\n",
       "      <td>Lahore</td>\n",
       "      <td>PKR</td>\n",
       "      <td>247.0</td>\n",
       "      <td>2014-01-01 08:03:11+00:00</td>\n",
       "      <td>2013-12-24 08:00:00+00:00</td>\n",
       "      <td>2014-01-01 13:00:00+00:00</td>\n",
       "      <td>11.0</td>\n",
       "      <td>8</td>\n",
       "      <td>NaN</td>\n",
       "      <td>female</td>\n",
       "      <td>irregular</td>\n",
       "      <td>2014-01-01</td>\n",
       "    </tr>\n",
       "    <tr>\n",
       "      <th>4</th>\n",
       "      <td>653084</td>\n",
       "      <td>400.0</td>\n",
       "      <td>400.0</td>\n",
       "      <td>Milk Sales</td>\n",
       "      <td>Food</td>\n",
       "      <td>to purchase one buffalo.</td>\n",
       "      <td>PK</td>\n",
       "      <td>Pakistan</td>\n",
       "      <td>Abdul Hakeem</td>\n",
       "      <td>PKR</td>\n",
       "      <td>245.0</td>\n",
       "      <td>2014-01-01 11:53:19+00:00</td>\n",
       "      <td>2013-12-17 08:00:00+00:00</td>\n",
       "      <td>2014-01-01 19:18:51+00:00</td>\n",
       "      <td>14.0</td>\n",
       "      <td>16</td>\n",
       "      <td>NaN</td>\n",
       "      <td>female</td>\n",
       "      <td>monthly</td>\n",
       "      <td>2014-01-01</td>\n",
       "    </tr>\n",
       "  </tbody>\n",
       "</table>\n",
       "</div>"
      ],
      "text/plain": [
       "       id  funded_amount  loan_amount             activity          sector  \\\n",
       "0  653051          300.0        300.0  Fruits & Vegetables            Food   \n",
       "1  653053          575.0        575.0             Rickshaw  Transportation   \n",
       "2  653068          150.0        150.0       Transportation  Transportation   \n",
       "3  653063          200.0        200.0           Embroidery            Arts   \n",
       "4  653084          400.0        400.0           Milk Sales            Food   \n",
       "\n",
       "                                                 use country_code   country  \\\n",
       "0            To buy seasonal, fresh fruits to sell.            PK  Pakistan   \n",
       "1  to repair and maintain the auto rickshaw used ...           PK  Pakistan   \n",
       "2  To repair their old cycle-van and buy another ...           IN     India   \n",
       "3  to purchase an embroidery machine and a variet...           PK  Pakistan   \n",
       "4                           to purchase one buffalo.           PK  Pakistan   \n",
       "\n",
       "         region currency  partner_id                posted_time  \\\n",
       "0        Lahore      PKR       247.0  2014-01-01 06:12:39+00:00   \n",
       "1        Lahore      PKR       247.0  2014-01-01 06:51:08+00:00   \n",
       "2     Maynaguri      INR       334.0  2014-01-01 09:58:07+00:00   \n",
       "3        Lahore      PKR       247.0  2014-01-01 08:03:11+00:00   \n",
       "4  Abdul Hakeem      PKR       245.0  2014-01-01 11:53:19+00:00   \n",
       "\n",
       "              disbursed_time                funded_time  term_in_months  \\\n",
       "0  2013-12-17 08:00:00+00:00  2014-01-02 10:06:32+00:00            12.0   \n",
       "1  2013-12-17 08:00:00+00:00  2014-01-02 09:17:23+00:00            11.0   \n",
       "2  2013-12-17 08:00:00+00:00  2014-01-01 16:01:36+00:00            43.0   \n",
       "3  2013-12-24 08:00:00+00:00  2014-01-01 13:00:00+00:00            11.0   \n",
       "4  2013-12-17 08:00:00+00:00  2014-01-01 19:18:51+00:00            14.0   \n",
       "\n",
       "   lender_count                          tags borrower_genders  \\\n",
       "0            12                           NaN           female   \n",
       "1            14                           NaN   female, female   \n",
       "2             6  user_favorite, user_favorite           female   \n",
       "3             8                           NaN           female   \n",
       "4            16                           NaN           female   \n",
       "\n",
       "  repayment_interval        date  \n",
       "0          irregular  2014-01-01  \n",
       "1          irregular  2014-01-01  \n",
       "2             bullet  2014-01-01  \n",
       "3          irregular  2014-01-01  \n",
       "4            monthly  2014-01-01  "
      ]
     },
     "execution_count": 3,
     "metadata": {},
     "output_type": "execute_result"
    }
   ],
   "source": [
    "loan_data.head()"
   ]
  },
  {
   "cell_type": "markdown",
   "metadata": {},
   "source": [
    " "
   ]
  },
  {
   "cell_type": "code",
   "execution_count": 4,
   "metadata": {},
   "outputs": [
    {
     "data": {
      "text/html": [
       "<div>\n",
       "<style scoped>\n",
       "    .dataframe tbody tr th:only-of-type {\n",
       "        vertical-align: middle;\n",
       "    }\n",
       "\n",
       "    .dataframe tbody tr th {\n",
       "        vertical-align: top;\n",
       "    }\n",
       "\n",
       "    .dataframe thead th {\n",
       "        text-align: right;\n",
       "    }\n",
       "</style>\n",
       "<table border=\"1\" class=\"dataframe\">\n",
       "  <thead>\n",
       "    <tr style=\"text-align: right;\">\n",
       "      <th></th>\n",
       "      <th>LocationName</th>\n",
       "      <th>ISO</th>\n",
       "      <th>country</th>\n",
       "      <th>region</th>\n",
       "      <th>world_region</th>\n",
       "      <th>MPI</th>\n",
       "      <th>geo</th>\n",
       "      <th>lat</th>\n",
       "      <th>lon</th>\n",
       "    </tr>\n",
       "  </thead>\n",
       "  <tbody>\n",
       "    <tr>\n",
       "      <th>0</th>\n",
       "      <td>Badakhshan, Afghanistan</td>\n",
       "      <td>AFG</td>\n",
       "      <td>Afghanistan</td>\n",
       "      <td>Badakhshan</td>\n",
       "      <td>South Asia</td>\n",
       "      <td>0.387</td>\n",
       "      <td>(36.7347725, 70.81199529999999)</td>\n",
       "      <td>36.734772</td>\n",
       "      <td>70.811995</td>\n",
       "    </tr>\n",
       "    <tr>\n",
       "      <th>1</th>\n",
       "      <td>Badghis, Afghanistan</td>\n",
       "      <td>AFG</td>\n",
       "      <td>Afghanistan</td>\n",
       "      <td>Badghis</td>\n",
       "      <td>South Asia</td>\n",
       "      <td>0.466</td>\n",
       "      <td>(35.1671339, 63.7695384)</td>\n",
       "      <td>35.167134</td>\n",
       "      <td>63.769538</td>\n",
       "    </tr>\n",
       "    <tr>\n",
       "      <th>2</th>\n",
       "      <td>Baghlan, Afghanistan</td>\n",
       "      <td>AFG</td>\n",
       "      <td>Afghanistan</td>\n",
       "      <td>Baghlan</td>\n",
       "      <td>South Asia</td>\n",
       "      <td>0.300</td>\n",
       "      <td>(35.8042947, 69.2877535)</td>\n",
       "      <td>35.804295</td>\n",
       "      <td>69.287754</td>\n",
       "    </tr>\n",
       "    <tr>\n",
       "      <th>3</th>\n",
       "      <td>Balkh, Afghanistan</td>\n",
       "      <td>AFG</td>\n",
       "      <td>Afghanistan</td>\n",
       "      <td>Balkh</td>\n",
       "      <td>South Asia</td>\n",
       "      <td>0.301</td>\n",
       "      <td>(36.7550603, 66.8975372)</td>\n",
       "      <td>36.755060</td>\n",
       "      <td>66.897537</td>\n",
       "    </tr>\n",
       "    <tr>\n",
       "      <th>4</th>\n",
       "      <td>Bamyan, Afghanistan</td>\n",
       "      <td>AFG</td>\n",
       "      <td>Afghanistan</td>\n",
       "      <td>Bamyan</td>\n",
       "      <td>South Asia</td>\n",
       "      <td>0.325</td>\n",
       "      <td>(34.8100067, 67.8212104)</td>\n",
       "      <td>34.810007</td>\n",
       "      <td>67.821210</td>\n",
       "    </tr>\n",
       "  </tbody>\n",
       "</table>\n",
       "</div>"
      ],
      "text/plain": [
       "              LocationName  ISO      country      region world_region    MPI  \\\n",
       "0  Badakhshan, Afghanistan  AFG  Afghanistan  Badakhshan   South Asia  0.387   \n",
       "1     Badghis, Afghanistan  AFG  Afghanistan     Badghis   South Asia  0.466   \n",
       "2     Baghlan, Afghanistan  AFG  Afghanistan     Baghlan   South Asia  0.300   \n",
       "3       Balkh, Afghanistan  AFG  Afghanistan       Balkh   South Asia  0.301   \n",
       "4      Bamyan, Afghanistan  AFG  Afghanistan      Bamyan   South Asia  0.325   \n",
       "\n",
       "                               geo        lat        lon  \n",
       "0  (36.7347725, 70.81199529999999)  36.734772  70.811995  \n",
       "1         (35.1671339, 63.7695384)  35.167134  63.769538  \n",
       "2         (35.8042947, 69.2877535)  35.804295  69.287754  \n",
       "3         (36.7550603, 66.8975372)  36.755060  66.897537  \n",
       "4         (34.8100067, 67.8212104)  34.810007  67.821210  "
      ]
     },
     "execution_count": 4,
     "metadata": {},
     "output_type": "execute_result"
    }
   ],
   "source": [
    "region_data.head()"
   ]
  },
  {
   "cell_type": "markdown",
   "metadata": {},
   "source": [
    " "
   ]
  },
  {
   "cell_type": "code",
   "execution_count": 5,
   "metadata": {},
   "outputs": [
    {
     "data": {
      "text/html": [
       "<div>\n",
       "<style scoped>\n",
       "    .dataframe tbody tr th:only-of-type {\n",
       "        vertical-align: middle;\n",
       "    }\n",
       "\n",
       "    .dataframe tbody tr th {\n",
       "        vertical-align: top;\n",
       "    }\n",
       "\n",
       "    .dataframe thead th {\n",
       "        text-align: right;\n",
       "    }\n",
       "</style>\n",
       "<table border=\"1\" class=\"dataframe\">\n",
       "  <thead>\n",
       "    <tr style=\"text-align: right;\">\n",
       "      <th></th>\n",
       "      <th>id</th>\n",
       "      <th>Loan Theme ID</th>\n",
       "      <th>Loan Theme Type</th>\n",
       "      <th>Partner ID</th>\n",
       "    </tr>\n",
       "  </thead>\n",
       "  <tbody>\n",
       "    <tr>\n",
       "      <th>0</th>\n",
       "      <td>638631</td>\n",
       "      <td>a1050000000skGl</td>\n",
       "      <td>General</td>\n",
       "      <td>151.0</td>\n",
       "    </tr>\n",
       "    <tr>\n",
       "      <th>1</th>\n",
       "      <td>640322</td>\n",
       "      <td>a1050000000skGl</td>\n",
       "      <td>General</td>\n",
       "      <td>151.0</td>\n",
       "    </tr>\n",
       "    <tr>\n",
       "      <th>2</th>\n",
       "      <td>641006</td>\n",
       "      <td>a1050000002X1ij</td>\n",
       "      <td>Higher Education</td>\n",
       "      <td>160.0</td>\n",
       "    </tr>\n",
       "    <tr>\n",
       "      <th>3</th>\n",
       "      <td>641019</td>\n",
       "      <td>a1050000002X1ij</td>\n",
       "      <td>Higher Education</td>\n",
       "      <td>160.0</td>\n",
       "    </tr>\n",
       "    <tr>\n",
       "      <th>4</th>\n",
       "      <td>641594</td>\n",
       "      <td>a1050000002VbsW</td>\n",
       "      <td>Subsistence Agriculture</td>\n",
       "      <td>336.0</td>\n",
       "    </tr>\n",
       "  </tbody>\n",
       "</table>\n",
       "</div>"
      ],
      "text/plain": [
       "       id    Loan Theme ID          Loan Theme Type  Partner ID\n",
       "0  638631  a1050000000skGl                  General       151.0\n",
       "1  640322  a1050000000skGl                  General       151.0\n",
       "2  641006  a1050000002X1ij         Higher Education       160.0\n",
       "3  641019  a1050000002X1ij         Higher Education       160.0\n",
       "4  641594  a1050000002VbsW  Subsistence Agriculture       336.0"
      ]
     },
     "execution_count": 5,
     "metadata": {},
     "output_type": "execute_result"
    }
   ],
   "source": [
    "loan_theme.head()"
   ]
  },
  {
   "cell_type": "markdown",
   "metadata": {},
   "source": [
    " "
   ]
  },
  {
   "cell_type": "code",
   "execution_count": 6,
   "metadata": {},
   "outputs": [
    {
     "data": {
      "text/html": [
       "<div>\n",
       "<style scoped>\n",
       "    .dataframe tbody tr th:only-of-type {\n",
       "        vertical-align: middle;\n",
       "    }\n",
       "\n",
       "    .dataframe tbody tr th {\n",
       "        vertical-align: top;\n",
       "    }\n",
       "\n",
       "    .dataframe thead th {\n",
       "        text-align: right;\n",
       "    }\n",
       "</style>\n",
       "<table border=\"1\" class=\"dataframe\">\n",
       "  <thead>\n",
       "    <tr style=\"text-align: right;\">\n",
       "      <th></th>\n",
       "      <th>Partner ID</th>\n",
       "      <th>Field Partner Name</th>\n",
       "      <th>sector</th>\n",
       "      <th>Loan Theme ID</th>\n",
       "      <th>Loan Theme Type</th>\n",
       "      <th>country</th>\n",
       "      <th>forkiva</th>\n",
       "      <th>region</th>\n",
       "      <th>geocode_old</th>\n",
       "      <th>ISO</th>\n",
       "      <th>...</th>\n",
       "      <th>amount</th>\n",
       "      <th>LocationName</th>\n",
       "      <th>geocode</th>\n",
       "      <th>names</th>\n",
       "      <th>geo</th>\n",
       "      <th>lat</th>\n",
       "      <th>lon</th>\n",
       "      <th>mpi_region</th>\n",
       "      <th>mpi_geo</th>\n",
       "      <th>rural_pct</th>\n",
       "    </tr>\n",
       "  </thead>\n",
       "  <tbody>\n",
       "    <tr>\n",
       "      <th>0</th>\n",
       "      <td>9</td>\n",
       "      <td>KREDIT Microfinance Institution</td>\n",
       "      <td>General Financial Inclusion</td>\n",
       "      <td>a1050000000slfi</td>\n",
       "      <td>Higher Education</td>\n",
       "      <td>Cambodia</td>\n",
       "      <td>No</td>\n",
       "      <td>Banteay Meanchey</td>\n",
       "      <td>(13.75, 103.0)</td>\n",
       "      <td>KHM</td>\n",
       "      <td>...</td>\n",
       "      <td>450</td>\n",
       "      <td>Banteay Meanchey, Cambodia</td>\n",
       "      <td>[(13.6672596, 102.8975098)]</td>\n",
       "      <td>Banteay Meanchey Province; Cambodia</td>\n",
       "      <td>(13.6672596, 102.8975098)</td>\n",
       "      <td>13.667260</td>\n",
       "      <td>102.897510</td>\n",
       "      <td>Banteay Mean Chey, Cambodia</td>\n",
       "      <td>(13.6672596, 102.8975098)</td>\n",
       "      <td>90.0</td>\n",
       "    </tr>\n",
       "    <tr>\n",
       "      <th>1</th>\n",
       "      <td>9</td>\n",
       "      <td>KREDIT Microfinance Institution</td>\n",
       "      <td>General Financial Inclusion</td>\n",
       "      <td>a10500000068jPe</td>\n",
       "      <td>Vulnerable Populations</td>\n",
       "      <td>Cambodia</td>\n",
       "      <td>No</td>\n",
       "      <td>Battambang Province</td>\n",
       "      <td>NaN</td>\n",
       "      <td>KHM</td>\n",
       "      <td>...</td>\n",
       "      <td>20275</td>\n",
       "      <td>Battambang Province, Cambodia</td>\n",
       "      <td>[(13.0286971, 102.989615)]</td>\n",
       "      <td>Battambang Province; Cambodia</td>\n",
       "      <td>(13.0286971, 102.989615)</td>\n",
       "      <td>13.028697</td>\n",
       "      <td>102.989615</td>\n",
       "      <td>Banteay Mean Chey, Cambodia</td>\n",
       "      <td>(13.6672596, 102.8975098)</td>\n",
       "      <td>90.0</td>\n",
       "    </tr>\n",
       "    <tr>\n",
       "      <th>2</th>\n",
       "      <td>9</td>\n",
       "      <td>KREDIT Microfinance Institution</td>\n",
       "      <td>General Financial Inclusion</td>\n",
       "      <td>a1050000000slfi</td>\n",
       "      <td>Higher Education</td>\n",
       "      <td>Cambodia</td>\n",
       "      <td>No</td>\n",
       "      <td>Battambang Province</td>\n",
       "      <td>NaN</td>\n",
       "      <td>KHM</td>\n",
       "      <td>...</td>\n",
       "      <td>9150</td>\n",
       "      <td>Battambang Province, Cambodia</td>\n",
       "      <td>[(13.0286971, 102.989615)]</td>\n",
       "      <td>Battambang Province; Cambodia</td>\n",
       "      <td>(13.0286971, 102.989615)</td>\n",
       "      <td>13.028697</td>\n",
       "      <td>102.989615</td>\n",
       "      <td>Banteay Mean Chey, Cambodia</td>\n",
       "      <td>(13.6672596, 102.8975098)</td>\n",
       "      <td>90.0</td>\n",
       "    </tr>\n",
       "    <tr>\n",
       "      <th>3</th>\n",
       "      <td>9</td>\n",
       "      <td>KREDIT Microfinance Institution</td>\n",
       "      <td>General Financial Inclusion</td>\n",
       "      <td>a10500000068jPe</td>\n",
       "      <td>Vulnerable Populations</td>\n",
       "      <td>Cambodia</td>\n",
       "      <td>No</td>\n",
       "      <td>Kampong Cham Province</td>\n",
       "      <td>(12.0, 105.5)</td>\n",
       "      <td>KHM</td>\n",
       "      <td>...</td>\n",
       "      <td>604950</td>\n",
       "      <td>Kampong Cham Province, Cambodia</td>\n",
       "      <td>[(12.0982918, 105.3131185)]</td>\n",
       "      <td>Kampong Cham Province; Cambodia</td>\n",
       "      <td>(12.0982918, 105.3131185)</td>\n",
       "      <td>12.098292</td>\n",
       "      <td>105.313119</td>\n",
       "      <td>Kampong Cham, Cambodia</td>\n",
       "      <td>(11.9924294, 105.4645408)</td>\n",
       "      <td>90.0</td>\n",
       "    </tr>\n",
       "    <tr>\n",
       "      <th>4</th>\n",
       "      <td>9</td>\n",
       "      <td>KREDIT Microfinance Institution</td>\n",
       "      <td>General Financial Inclusion</td>\n",
       "      <td>a1050000002X1Uu</td>\n",
       "      <td>Sanitation</td>\n",
       "      <td>Cambodia</td>\n",
       "      <td>No</td>\n",
       "      <td>Kampong Cham Province</td>\n",
       "      <td>(12.0, 105.5)</td>\n",
       "      <td>KHM</td>\n",
       "      <td>...</td>\n",
       "      <td>275</td>\n",
       "      <td>Kampong Cham Province, Cambodia</td>\n",
       "      <td>[(12.0982918, 105.3131185)]</td>\n",
       "      <td>Kampong Cham Province; Cambodia</td>\n",
       "      <td>(12.0982918, 105.3131185)</td>\n",
       "      <td>12.098292</td>\n",
       "      <td>105.313119</td>\n",
       "      <td>Kampong Cham, Cambodia</td>\n",
       "      <td>(11.9924294, 105.4645408)</td>\n",
       "      <td>90.0</td>\n",
       "    </tr>\n",
       "  </tbody>\n",
       "</table>\n",
       "<p>5 rows × 21 columns</p>\n",
       "</div>"
      ],
      "text/plain": [
       "   Partner ID               Field Partner Name                       sector  \\\n",
       "0           9  KREDIT Microfinance Institution  General Financial Inclusion   \n",
       "1           9  KREDIT Microfinance Institution  General Financial Inclusion   \n",
       "2           9  KREDIT Microfinance Institution  General Financial Inclusion   \n",
       "3           9  KREDIT Microfinance Institution  General Financial Inclusion   \n",
       "4           9  KREDIT Microfinance Institution  General Financial Inclusion   \n",
       "\n",
       "     Loan Theme ID         Loan Theme Type   country forkiva  \\\n",
       "0  a1050000000slfi        Higher Education  Cambodia      No   \n",
       "1  a10500000068jPe  Vulnerable Populations  Cambodia      No   \n",
       "2  a1050000000slfi        Higher Education  Cambodia      No   \n",
       "3  a10500000068jPe  Vulnerable Populations  Cambodia      No   \n",
       "4  a1050000002X1Uu              Sanitation  Cambodia      No   \n",
       "\n",
       "                  region     geocode_old  ISO  ...  amount  \\\n",
       "0       Banteay Meanchey  (13.75, 103.0)  KHM  ...     450   \n",
       "1    Battambang Province             NaN  KHM  ...   20275   \n",
       "2    Battambang Province             NaN  KHM  ...    9150   \n",
       "3  Kampong Cham Province   (12.0, 105.5)  KHM  ...  604950   \n",
       "4  Kampong Cham Province   (12.0, 105.5)  KHM  ...     275   \n",
       "\n",
       "                      LocationName                      geocode  \\\n",
       "0       Banteay Meanchey, Cambodia  [(13.6672596, 102.8975098)]   \n",
       "1    Battambang Province, Cambodia   [(13.0286971, 102.989615)]   \n",
       "2    Battambang Province, Cambodia   [(13.0286971, 102.989615)]   \n",
       "3  Kampong Cham Province, Cambodia  [(12.0982918, 105.3131185)]   \n",
       "4  Kampong Cham Province, Cambodia  [(12.0982918, 105.3131185)]   \n",
       "\n",
       "                                 names                        geo        lat  \\\n",
       "0  Banteay Meanchey Province; Cambodia  (13.6672596, 102.8975098)  13.667260   \n",
       "1        Battambang Province; Cambodia   (13.0286971, 102.989615)  13.028697   \n",
       "2        Battambang Province; Cambodia   (13.0286971, 102.989615)  13.028697   \n",
       "3      Kampong Cham Province; Cambodia  (12.0982918, 105.3131185)  12.098292   \n",
       "4      Kampong Cham Province; Cambodia  (12.0982918, 105.3131185)  12.098292   \n",
       "\n",
       "          lon                   mpi_region                    mpi_geo  \\\n",
       "0  102.897510  Banteay Mean Chey, Cambodia  (13.6672596, 102.8975098)   \n",
       "1  102.989615  Banteay Mean Chey, Cambodia  (13.6672596, 102.8975098)   \n",
       "2  102.989615  Banteay Mean Chey, Cambodia  (13.6672596, 102.8975098)   \n",
       "3  105.313119       Kampong Cham, Cambodia  (11.9924294, 105.4645408)   \n",
       "4  105.313119       Kampong Cham, Cambodia  (11.9924294, 105.4645408)   \n",
       "\n",
       "  rural_pct  \n",
       "0      90.0  \n",
       "1      90.0  \n",
       "2      90.0  \n",
       "3      90.0  \n",
       "4      90.0  \n",
       "\n",
       "[5 rows x 21 columns]"
      ]
     },
     "execution_count": 6,
     "metadata": {},
     "output_type": "execute_result"
    }
   ],
   "source": [
    "loan_theme_region.head()"
   ]
  },
  {
   "cell_type": "markdown",
   "metadata": {},
   "source": [
    " "
   ]
  },
  {
   "cell_type": "markdown",
   "metadata": {},
   "source": [
    "# Concise summary of each dataset "
   ]
  },
  {
   "cell_type": "code",
   "execution_count": 7,
   "metadata": {},
   "outputs": [
    {
     "name": "stdout",
     "output_type": "stream",
     "text": [
      "<class 'pandas.core.frame.DataFrame'>\n",
      "RangeIndex: 671205 entries, 0 to 671204\n",
      "Data columns (total 20 columns):\n",
      " #   Column              Non-Null Count   Dtype  \n",
      "---  ------              --------------   -----  \n",
      " 0   id                  671205 non-null  int64  \n",
      " 1   funded_amount       671205 non-null  float64\n",
      " 2   loan_amount         671205 non-null  float64\n",
      " 3   activity            671205 non-null  object \n",
      " 4   sector              671205 non-null  object \n",
      " 5   use                 666973 non-null  object \n",
      " 6   country_code        671197 non-null  object \n",
      " 7   country             671205 non-null  object \n",
      " 8   region              614405 non-null  object \n",
      " 9   currency            671205 non-null  object \n",
      " 10  partner_id          657698 non-null  float64\n",
      " 11  posted_time         671205 non-null  object \n",
      " 12  disbursed_time      668809 non-null  object \n",
      " 13  funded_time         622874 non-null  object \n",
      " 14  term_in_months      671205 non-null  float64\n",
      " 15  lender_count        671205 non-null  int64  \n",
      " 16  tags                499789 non-null  object \n",
      " 17  borrower_genders    666984 non-null  object \n",
      " 18  repayment_interval  671205 non-null  object \n",
      " 19  date                671205 non-null  object \n",
      "dtypes: float64(4), int64(2), object(14)\n",
      "memory usage: 102.4+ MB\n"
     ]
    }
   ],
   "source": [
    "loan_data.info()"
   ]
  },
  {
   "cell_type": "markdown",
   "metadata": {},
   "source": [
    " "
   ]
  },
  {
   "cell_type": "code",
   "execution_count": 8,
   "metadata": {},
   "outputs": [
    {
     "name": "stdout",
     "output_type": "stream",
     "text": [
      "<class 'pandas.core.frame.DataFrame'>\n",
      "RangeIndex: 2772 entries, 0 to 2771\n",
      "Data columns (total 9 columns):\n",
      " #   Column        Non-Null Count  Dtype  \n",
      "---  ------        --------------  -----  \n",
      " 0   LocationName  984 non-null    object \n",
      " 1   ISO           1008 non-null   object \n",
      " 2   country       1008 non-null   object \n",
      " 3   region        984 non-null    object \n",
      " 4   world_region  1008 non-null   object \n",
      " 5   MPI           984 non-null    float64\n",
      " 6   geo           2772 non-null   object \n",
      " 7   lat           892 non-null    float64\n",
      " 8   lon           892 non-null    float64\n",
      "dtypes: float64(3), object(6)\n",
      "memory usage: 195.0+ KB\n"
     ]
    }
   ],
   "source": [
    "region_data.info()"
   ]
  },
  {
   "cell_type": "markdown",
   "metadata": {},
   "source": [
    "  "
   ]
  },
  {
   "cell_type": "code",
   "execution_count": 9,
   "metadata": {},
   "outputs": [
    {
     "name": "stdout",
     "output_type": "stream",
     "text": [
      "<class 'pandas.core.frame.DataFrame'>\n",
      "RangeIndex: 779092 entries, 0 to 779091\n",
      "Data columns (total 4 columns):\n",
      " #   Column           Non-Null Count   Dtype  \n",
      "---  ------           --------------   -----  \n",
      " 0   id               779092 non-null  int64  \n",
      " 1   Loan Theme ID    764279 non-null  object \n",
      " 2   Loan Theme Type  764279 non-null  object \n",
      " 3   Partner ID       764279 non-null  float64\n",
      "dtypes: float64(1), int64(1), object(2)\n",
      "memory usage: 23.8+ MB\n"
     ]
    }
   ],
   "source": [
    "loan_theme.info()"
   ]
  },
  {
   "cell_type": "markdown",
   "metadata": {},
   "source": [
    " "
   ]
  },
  {
   "cell_type": "code",
   "execution_count": 10,
   "metadata": {},
   "outputs": [
    {
     "name": "stdout",
     "output_type": "stream",
     "text": [
      "<class 'pandas.core.frame.DataFrame'>\n",
      "RangeIndex: 15736 entries, 0 to 15735\n",
      "Data columns (total 21 columns):\n",
      " #   Column              Non-Null Count  Dtype  \n",
      "---  ------              --------------  -----  \n",
      " 0   Partner ID          15736 non-null  int64  \n",
      " 1   Field Partner Name  15736 non-null  object \n",
      " 2   sector              15736 non-null  object \n",
      " 3   Loan Theme ID       15736 non-null  object \n",
      " 4   Loan Theme Type     15736 non-null  object \n",
      " 5   country             15736 non-null  object \n",
      " 6   forkiva             15736 non-null  object \n",
      " 7   region              15736 non-null  object \n",
      " 8   geocode_old         1200 non-null   object \n",
      " 9   ISO                 15722 non-null  object \n",
      " 10  number              15736 non-null  int64  \n",
      " 11  amount              15736 non-null  int64  \n",
      " 12  LocationName        15736 non-null  object \n",
      " 13  geocode             13662 non-null  object \n",
      " 14  names               13661 non-null  object \n",
      " 15  geo                 15736 non-null  object \n",
      " 16  lat                 13662 non-null  float64\n",
      " 17  lon                 13662 non-null  float64\n",
      " 18  mpi_region          15722 non-null  object \n",
      " 19  mpi_geo             9671 non-null   object \n",
      " 20  rural_pct           14344 non-null  float64\n",
      "dtypes: float64(3), int64(3), object(15)\n",
      "memory usage: 2.5+ MB\n"
     ]
    }
   ],
   "source": [
    "loan_theme_region.info()"
   ]
  },
  {
   "cell_type": "markdown",
   "metadata": {},
   "source": [
    " "
   ]
  },
  {
   "cell_type": "markdown",
   "metadata": {},
   "source": [
    "# Numerical Summary of each dataset"
   ]
  },
  {
   "cell_type": "code",
   "execution_count": 11,
   "metadata": {},
   "outputs": [
    {
     "data": {
      "text/html": [
       "<div>\n",
       "<style scoped>\n",
       "    .dataframe tbody tr th:only-of-type {\n",
       "        vertical-align: middle;\n",
       "    }\n",
       "\n",
       "    .dataframe tbody tr th {\n",
       "        vertical-align: top;\n",
       "    }\n",
       "\n",
       "    .dataframe thead th {\n",
       "        text-align: right;\n",
       "    }\n",
       "</style>\n",
       "<table border=\"1\" class=\"dataframe\">\n",
       "  <thead>\n",
       "    <tr style=\"text-align: right;\">\n",
       "      <th></th>\n",
       "      <th>id</th>\n",
       "      <th>funded_amount</th>\n",
       "      <th>loan_amount</th>\n",
       "      <th>partner_id</th>\n",
       "      <th>term_in_months</th>\n",
       "      <th>lender_count</th>\n",
       "    </tr>\n",
       "  </thead>\n",
       "  <tbody>\n",
       "    <tr>\n",
       "      <th>count</th>\n",
       "      <td>6.712050e+05</td>\n",
       "      <td>671205.000000</td>\n",
       "      <td>671205.000000</td>\n",
       "      <td>657698.000000</td>\n",
       "      <td>671205.000000</td>\n",
       "      <td>671205.000000</td>\n",
       "    </tr>\n",
       "    <tr>\n",
       "      <th>mean</th>\n",
       "      <td>9.932486e+05</td>\n",
       "      <td>785.995061</td>\n",
       "      <td>842.397107</td>\n",
       "      <td>178.199616</td>\n",
       "      <td>13.739022</td>\n",
       "      <td>20.590922</td>\n",
       "    </tr>\n",
       "    <tr>\n",
       "      <th>std</th>\n",
       "      <td>1.966113e+05</td>\n",
       "      <td>1130.398941</td>\n",
       "      <td>1198.660073</td>\n",
       "      <td>94.247581</td>\n",
       "      <td>8.598919</td>\n",
       "      <td>28.459551</td>\n",
       "    </tr>\n",
       "    <tr>\n",
       "      <th>min</th>\n",
       "      <td>6.530470e+05</td>\n",
       "      <td>0.000000</td>\n",
       "      <td>25.000000</td>\n",
       "      <td>9.000000</td>\n",
       "      <td>1.000000</td>\n",
       "      <td>0.000000</td>\n",
       "    </tr>\n",
       "    <tr>\n",
       "      <th>25%</th>\n",
       "      <td>8.230720e+05</td>\n",
       "      <td>250.000000</td>\n",
       "      <td>275.000000</td>\n",
       "      <td>126.000000</td>\n",
       "      <td>8.000000</td>\n",
       "      <td>7.000000</td>\n",
       "    </tr>\n",
       "    <tr>\n",
       "      <th>50%</th>\n",
       "      <td>9.927800e+05</td>\n",
       "      <td>450.000000</td>\n",
       "      <td>500.000000</td>\n",
       "      <td>145.000000</td>\n",
       "      <td>13.000000</td>\n",
       "      <td>13.000000</td>\n",
       "    </tr>\n",
       "    <tr>\n",
       "      <th>75%</th>\n",
       "      <td>1.163653e+06</td>\n",
       "      <td>900.000000</td>\n",
       "      <td>1000.000000</td>\n",
       "      <td>204.000000</td>\n",
       "      <td>14.000000</td>\n",
       "      <td>24.000000</td>\n",
       "    </tr>\n",
       "    <tr>\n",
       "      <th>max</th>\n",
       "      <td>1.340339e+06</td>\n",
       "      <td>100000.000000</td>\n",
       "      <td>100000.000000</td>\n",
       "      <td>536.000000</td>\n",
       "      <td>158.000000</td>\n",
       "      <td>2986.000000</td>\n",
       "    </tr>\n",
       "  </tbody>\n",
       "</table>\n",
       "</div>"
      ],
      "text/plain": [
       "                 id  funded_amount    loan_amount     partner_id  \\\n",
       "count  6.712050e+05  671205.000000  671205.000000  657698.000000   \n",
       "mean   9.932486e+05     785.995061     842.397107     178.199616   \n",
       "std    1.966113e+05    1130.398941    1198.660073      94.247581   \n",
       "min    6.530470e+05       0.000000      25.000000       9.000000   \n",
       "25%    8.230720e+05     250.000000     275.000000     126.000000   \n",
       "50%    9.927800e+05     450.000000     500.000000     145.000000   \n",
       "75%    1.163653e+06     900.000000    1000.000000     204.000000   \n",
       "max    1.340339e+06  100000.000000  100000.000000     536.000000   \n",
       "\n",
       "       term_in_months   lender_count  \n",
       "count   671205.000000  671205.000000  \n",
       "mean        13.739022      20.590922  \n",
       "std          8.598919      28.459551  \n",
       "min          1.000000       0.000000  \n",
       "25%          8.000000       7.000000  \n",
       "50%         13.000000      13.000000  \n",
       "75%         14.000000      24.000000  \n",
       "max        158.000000    2986.000000  "
      ]
     },
     "execution_count": 11,
     "metadata": {},
     "output_type": "execute_result"
    }
   ],
   "source": [
    "loan_data.describe()"
   ]
  },
  {
   "cell_type": "markdown",
   "metadata": {},
   "source": [
    " "
   ]
  },
  {
   "cell_type": "code",
   "execution_count": 12,
   "metadata": {},
   "outputs": [
    {
     "data": {
      "text/html": [
       "<div>\n",
       "<style scoped>\n",
       "    .dataframe tbody tr th:only-of-type {\n",
       "        vertical-align: middle;\n",
       "    }\n",
       "\n",
       "    .dataframe tbody tr th {\n",
       "        vertical-align: top;\n",
       "    }\n",
       "\n",
       "    .dataframe thead th {\n",
       "        text-align: right;\n",
       "    }\n",
       "</style>\n",
       "<table border=\"1\" class=\"dataframe\">\n",
       "  <thead>\n",
       "    <tr style=\"text-align: right;\">\n",
       "      <th></th>\n",
       "      <th>MPI</th>\n",
       "      <th>lat</th>\n",
       "      <th>lon</th>\n",
       "    </tr>\n",
       "  </thead>\n",
       "  <tbody>\n",
       "    <tr>\n",
       "      <th>count</th>\n",
       "      <td>984.000000</td>\n",
       "      <td>892.000000</td>\n",
       "      <td>892.000000</td>\n",
       "    </tr>\n",
       "    <tr>\n",
       "      <th>mean</th>\n",
       "      <td>0.211330</td>\n",
       "      <td>9.169710</td>\n",
       "      <td>16.635888</td>\n",
       "    </tr>\n",
       "    <tr>\n",
       "      <th>std</th>\n",
       "      <td>0.183621</td>\n",
       "      <td>16.484531</td>\n",
       "      <td>61.234566</td>\n",
       "    </tr>\n",
       "    <tr>\n",
       "      <th>min</th>\n",
       "      <td>0.000000</td>\n",
       "      <td>-34.947896</td>\n",
       "      <td>-122.747131</td>\n",
       "    </tr>\n",
       "    <tr>\n",
       "      <th>25%</th>\n",
       "      <td>0.053000</td>\n",
       "      <td>-1.027901</td>\n",
       "      <td>-12.819854</td>\n",
       "    </tr>\n",
       "    <tr>\n",
       "      <th>50%</th>\n",
       "      <td>0.155000</td>\n",
       "      <td>11.211379</td>\n",
       "      <td>26.419389</td>\n",
       "    </tr>\n",
       "    <tr>\n",
       "      <th>75%</th>\n",
       "      <td>0.341500</td>\n",
       "      <td>18.084292</td>\n",
       "      <td>47.019436</td>\n",
       "    </tr>\n",
       "    <tr>\n",
       "      <th>max</th>\n",
       "      <td>0.744000</td>\n",
       "      <td>49.264748</td>\n",
       "      <td>138.581284</td>\n",
       "    </tr>\n",
       "  </tbody>\n",
       "</table>\n",
       "</div>"
      ],
      "text/plain": [
       "              MPI         lat         lon\n",
       "count  984.000000  892.000000  892.000000\n",
       "mean     0.211330    9.169710   16.635888\n",
       "std      0.183621   16.484531   61.234566\n",
       "min      0.000000  -34.947896 -122.747131\n",
       "25%      0.053000   -1.027901  -12.819854\n",
       "50%      0.155000   11.211379   26.419389\n",
       "75%      0.341500   18.084292   47.019436\n",
       "max      0.744000   49.264748  138.581284"
      ]
     },
     "execution_count": 12,
     "metadata": {},
     "output_type": "execute_result"
    }
   ],
   "source": [
    "region_data.describe()"
   ]
  },
  {
   "cell_type": "markdown",
   "metadata": {},
   "source": [
    "  "
   ]
  },
  {
   "cell_type": "code",
   "execution_count": 13,
   "metadata": {},
   "outputs": [
    {
     "data": {
      "text/html": [
       "<div>\n",
       "<style scoped>\n",
       "    .dataframe tbody tr th:only-of-type {\n",
       "        vertical-align: middle;\n",
       "    }\n",
       "\n",
       "    .dataframe tbody tr th {\n",
       "        vertical-align: top;\n",
       "    }\n",
       "\n",
       "    .dataframe thead th {\n",
       "        text-align: right;\n",
       "    }\n",
       "</style>\n",
       "<table border=\"1\" class=\"dataframe\">\n",
       "  <thead>\n",
       "    <tr style=\"text-align: right;\">\n",
       "      <th></th>\n",
       "      <th>id</th>\n",
       "      <th>Partner ID</th>\n",
       "    </tr>\n",
       "  </thead>\n",
       "  <tbody>\n",
       "    <tr>\n",
       "      <th>count</th>\n",
       "      <td>7.790920e+05</td>\n",
       "      <td>764279.000000</td>\n",
       "    </tr>\n",
       "    <tr>\n",
       "      <th>mean</th>\n",
       "      <td>1.047475e+06</td>\n",
       "      <td>180.825840</td>\n",
       "    </tr>\n",
       "    <tr>\n",
       "      <th>std</th>\n",
       "      <td>2.282538e+05</td>\n",
       "      <td>97.914029</td>\n",
       "    </tr>\n",
       "    <tr>\n",
       "      <th>min</th>\n",
       "      <td>6.386310e+05</td>\n",
       "      <td>9.000000</td>\n",
       "    </tr>\n",
       "    <tr>\n",
       "      <th>25%</th>\n",
       "      <td>8.499768e+05</td>\n",
       "      <td>126.000000</td>\n",
       "    </tr>\n",
       "    <tr>\n",
       "      <th>50%</th>\n",
       "      <td>1.046528e+06</td>\n",
       "      <td>145.000000</td>\n",
       "    </tr>\n",
       "    <tr>\n",
       "      <th>75%</th>\n",
       "      <td>1.244768e+06</td>\n",
       "      <td>204.000000</td>\n",
       "    </tr>\n",
       "    <tr>\n",
       "      <th>max</th>\n",
       "      <td>1.444243e+06</td>\n",
       "      <td>557.000000</td>\n",
       "    </tr>\n",
       "  </tbody>\n",
       "</table>\n",
       "</div>"
      ],
      "text/plain": [
       "                 id     Partner ID\n",
       "count  7.790920e+05  764279.000000\n",
       "mean   1.047475e+06     180.825840\n",
       "std    2.282538e+05      97.914029\n",
       "min    6.386310e+05       9.000000\n",
       "25%    8.499768e+05     126.000000\n",
       "50%    1.046528e+06     145.000000\n",
       "75%    1.244768e+06     204.000000\n",
       "max    1.444243e+06     557.000000"
      ]
     },
     "execution_count": 13,
     "metadata": {},
     "output_type": "execute_result"
    }
   ],
   "source": [
    "loan_theme.describe()"
   ]
  },
  {
   "cell_type": "markdown",
   "metadata": {},
   "source": [
    " "
   ]
  },
  {
   "cell_type": "code",
   "execution_count": 14,
   "metadata": {},
   "outputs": [
    {
     "data": {
      "text/html": [
       "<div>\n",
       "<style scoped>\n",
       "    .dataframe tbody tr th:only-of-type {\n",
       "        vertical-align: middle;\n",
       "    }\n",
       "\n",
       "    .dataframe tbody tr th {\n",
       "        vertical-align: top;\n",
       "    }\n",
       "\n",
       "    .dataframe thead th {\n",
       "        text-align: right;\n",
       "    }\n",
       "</style>\n",
       "<table border=\"1\" class=\"dataframe\">\n",
       "  <thead>\n",
       "    <tr style=\"text-align: right;\">\n",
       "      <th></th>\n",
       "      <th>Partner ID</th>\n",
       "      <th>number</th>\n",
       "      <th>amount</th>\n",
       "      <th>lat</th>\n",
       "      <th>lon</th>\n",
       "      <th>rural_pct</th>\n",
       "    </tr>\n",
       "  </thead>\n",
       "  <tbody>\n",
       "    <tr>\n",
       "      <th>count</th>\n",
       "      <td>15736.000000</td>\n",
       "      <td>15736.000000</td>\n",
       "      <td>1.573600e+04</td>\n",
       "      <td>13662.000000</td>\n",
       "      <td>13662.000000</td>\n",
       "      <td>14344.000000</td>\n",
       "    </tr>\n",
       "    <tr>\n",
       "      <th>mean</th>\n",
       "      <td>191.376144</td>\n",
       "      <td>53.628432</td>\n",
       "      <td>2.003991e+04</td>\n",
       "      <td>14.328878</td>\n",
       "      <td>29.433569</td>\n",
       "      <td>68.084635</td>\n",
       "    </tr>\n",
       "    <tr>\n",
       "      <th>std</th>\n",
       "      <td>118.705003</td>\n",
       "      <td>403.079799</td>\n",
       "      <td>9.636941e+04</td>\n",
       "      <td>16.757689</td>\n",
       "      <td>83.255739</td>\n",
       "      <td>26.550064</td>\n",
       "    </tr>\n",
       "    <tr>\n",
       "      <th>min</th>\n",
       "      <td>9.000000</td>\n",
       "      <td>1.000000</td>\n",
       "      <td>2.500000e+01</td>\n",
       "      <td>-34.610548</td>\n",
       "      <td>-172.790661</td>\n",
       "      <td>0.000000</td>\n",
       "    </tr>\n",
       "    <tr>\n",
       "      <th>25%</th>\n",
       "      <td>123.000000</td>\n",
       "      <td>1.000000</td>\n",
       "      <td>9.500000e+02</td>\n",
       "      <td>6.266728</td>\n",
       "      <td>-71.967463</td>\n",
       "      <td>60.000000</td>\n",
       "    </tr>\n",
       "    <tr>\n",
       "      <th>50%</th>\n",
       "      <td>154.000000</td>\n",
       "      <td>4.000000</td>\n",
       "      <td>2.600000e+03</td>\n",
       "      <td>13.484102</td>\n",
       "      <td>41.899993</td>\n",
       "      <td>73.000000</td>\n",
       "    </tr>\n",
       "    <tr>\n",
       "      <th>75%</th>\n",
       "      <td>217.000000</td>\n",
       "      <td>15.000000</td>\n",
       "      <td>8.750000e+03</td>\n",
       "      <td>22.189940</td>\n",
       "      <td>106.677321</td>\n",
       "      <td>85.000000</td>\n",
       "    </tr>\n",
       "    <tr>\n",
       "      <th>max</th>\n",
       "      <td>545.000000</td>\n",
       "      <td>22538.000000</td>\n",
       "      <td>4.929900e+06</td>\n",
       "      <td>51.314017</td>\n",
       "      <td>159.972900</td>\n",
       "      <td>100.000000</td>\n",
       "    </tr>\n",
       "  </tbody>\n",
       "</table>\n",
       "</div>"
      ],
      "text/plain": [
       "         Partner ID        number        amount           lat           lon  \\\n",
       "count  15736.000000  15736.000000  1.573600e+04  13662.000000  13662.000000   \n",
       "mean     191.376144     53.628432  2.003991e+04     14.328878     29.433569   \n",
       "std      118.705003    403.079799  9.636941e+04     16.757689     83.255739   \n",
       "min        9.000000      1.000000  2.500000e+01    -34.610548   -172.790661   \n",
       "25%      123.000000      1.000000  9.500000e+02      6.266728    -71.967463   \n",
       "50%      154.000000      4.000000  2.600000e+03     13.484102     41.899993   \n",
       "75%      217.000000     15.000000  8.750000e+03     22.189940    106.677321   \n",
       "max      545.000000  22538.000000  4.929900e+06     51.314017    159.972900   \n",
       "\n",
       "          rural_pct  \n",
       "count  14344.000000  \n",
       "mean      68.084635  \n",
       "std       26.550064  \n",
       "min        0.000000  \n",
       "25%       60.000000  \n",
       "50%       73.000000  \n",
       "75%       85.000000  \n",
       "max      100.000000  "
      ]
     },
     "execution_count": 14,
     "metadata": {},
     "output_type": "execute_result"
    }
   ],
   "source": [
    "loan_theme_region.describe()"
   ]
  },
  {
   "cell_type": "markdown",
   "metadata": {},
   "source": [
    "  "
   ]
  },
  {
   "cell_type": "markdown",
   "metadata": {},
   "source": [
    "# Cleaning the data "
   ]
  },
  {
   "cell_type": "markdown",
   "metadata": {},
   "source": [
    "Cleaning data will involve:\n",
    "    1. Merge dataframes in terms of similarity\n",
    "    2. Drop columns that I think are unnecessary.\n",
    "    3. Handle the missing values. "
   ]
  },
  {
   "cell_type": "markdown",
   "metadata": {},
   "source": [
    "1. Preparing and cleaning the data for the loan_data and loan_theme dataframes"
   ]
  },
  {
   "cell_type": "code",
   "execution_count": 15,
   "metadata": {},
   "outputs": [],
   "source": [
    "kiva_loans = pd.merge(loan_data, loan_theme, on='id',how='outer')"
   ]
  },
  {
   "cell_type": "code",
   "execution_count": 16,
   "metadata": {},
   "outputs": [
    {
     "data": {
      "text/html": [
       "<div>\n",
       "<style scoped>\n",
       "    .dataframe tbody tr th:only-of-type {\n",
       "        vertical-align: middle;\n",
       "    }\n",
       "\n",
       "    .dataframe tbody tr th {\n",
       "        vertical-align: top;\n",
       "    }\n",
       "\n",
       "    .dataframe thead th {\n",
       "        text-align: right;\n",
       "    }\n",
       "</style>\n",
       "<table border=\"1\" class=\"dataframe\">\n",
       "  <thead>\n",
       "    <tr style=\"text-align: right;\">\n",
       "      <th></th>\n",
       "      <th>id</th>\n",
       "      <th>loan_amount</th>\n",
       "      <th>sector</th>\n",
       "      <th>country</th>\n",
       "      <th>region</th>\n",
       "      <th>term_in_months</th>\n",
       "      <th>borrower_genders</th>\n",
       "      <th>repayment_interval</th>\n",
       "      <th>date</th>\n",
       "    </tr>\n",
       "  </thead>\n",
       "  <tbody>\n",
       "    <tr>\n",
       "      <th>0</th>\n",
       "      <td>653051</td>\n",
       "      <td>300.0</td>\n",
       "      <td>Food</td>\n",
       "      <td>Pakistan</td>\n",
       "      <td>Lahore</td>\n",
       "      <td>12.0</td>\n",
       "      <td>female</td>\n",
       "      <td>irregular</td>\n",
       "      <td>2014-01-01</td>\n",
       "    </tr>\n",
       "    <tr>\n",
       "      <th>1</th>\n",
       "      <td>653053</td>\n",
       "      <td>575.0</td>\n",
       "      <td>Transportation</td>\n",
       "      <td>Pakistan</td>\n",
       "      <td>Lahore</td>\n",
       "      <td>11.0</td>\n",
       "      <td>female, female</td>\n",
       "      <td>irregular</td>\n",
       "      <td>2014-01-01</td>\n",
       "    </tr>\n",
       "    <tr>\n",
       "      <th>2</th>\n",
       "      <td>653068</td>\n",
       "      <td>150.0</td>\n",
       "      <td>Transportation</td>\n",
       "      <td>India</td>\n",
       "      <td>Maynaguri</td>\n",
       "      <td>43.0</td>\n",
       "      <td>female</td>\n",
       "      <td>bullet</td>\n",
       "      <td>2014-01-01</td>\n",
       "    </tr>\n",
       "    <tr>\n",
       "      <th>3</th>\n",
       "      <td>653063</td>\n",
       "      <td>200.0</td>\n",
       "      <td>Arts</td>\n",
       "      <td>Pakistan</td>\n",
       "      <td>Lahore</td>\n",
       "      <td>11.0</td>\n",
       "      <td>female</td>\n",
       "      <td>irregular</td>\n",
       "      <td>2014-01-01</td>\n",
       "    </tr>\n",
       "    <tr>\n",
       "      <th>4</th>\n",
       "      <td>653084</td>\n",
       "      <td>400.0</td>\n",
       "      <td>Food</td>\n",
       "      <td>Pakistan</td>\n",
       "      <td>Abdul Hakeem</td>\n",
       "      <td>14.0</td>\n",
       "      <td>female</td>\n",
       "      <td>monthly</td>\n",
       "      <td>2014-01-01</td>\n",
       "    </tr>\n",
       "  </tbody>\n",
       "</table>\n",
       "</div>"
      ],
      "text/plain": [
       "       id  loan_amount          sector   country        region  \\\n",
       "0  653051        300.0            Food  Pakistan        Lahore   \n",
       "1  653053        575.0  Transportation  Pakistan        Lahore   \n",
       "2  653068        150.0  Transportation     India     Maynaguri   \n",
       "3  653063        200.0            Arts  Pakistan        Lahore   \n",
       "4  653084        400.0            Food  Pakistan  Abdul Hakeem   \n",
       "\n",
       "   term_in_months borrower_genders repayment_interval        date  \n",
       "0            12.0           female          irregular  2014-01-01  \n",
       "1            11.0   female, female          irregular  2014-01-01  \n",
       "2            43.0           female             bullet  2014-01-01  \n",
       "3            11.0           female          irregular  2014-01-01  \n",
       "4            14.0           female            monthly  2014-01-01  "
      ]
     },
     "execution_count": 16,
     "metadata": {},
     "output_type": "execute_result"
    }
   ],
   "source": [
    "kiva_loans.drop(['funded_amount','activity','use','country_code','currency','partner_id','posted_time'\n",
    "                         ,'disbursed_time','funded_time','lender_count','tags','Loan Theme ID','Loan Theme Type','Partner ID'],\n",
    "                axis=1,inplace=True)\n",
    "\n",
    "#Display the summarized data\n",
    "kiva_loans.head()"
   ]
  },
  {
   "cell_type": "code",
   "execution_count": 17,
   "metadata": {},
   "outputs": [
    {
     "name": "stdout",
     "output_type": "stream",
     "text": [
      "<class 'pandas.core.frame.DataFrame'>\n",
      "Int64Index: 779098 entries, 0 to 779097\n",
      "Data columns (total 9 columns):\n",
      " #   Column              Non-Null Count   Dtype  \n",
      "---  ------              --------------   -----  \n",
      " 0   id                  779098 non-null  int64  \n",
      " 1   loan_amount         671205 non-null  float64\n",
      " 2   sector              671205 non-null  object \n",
      " 3   country             671205 non-null  object \n",
      " 4   region              614405 non-null  object \n",
      " 5   term_in_months      671205 non-null  float64\n",
      " 6   borrower_genders    666984 non-null  object \n",
      " 7   repayment_interval  671205 non-null  object \n",
      " 8   date                671205 non-null  object \n",
      "dtypes: float64(2), int64(1), object(6)\n",
      "memory usage: 59.4+ MB\n"
     ]
    }
   ],
   "source": [
    "kiva_loans.info()"
   ]
  },
  {
   "cell_type": "code",
   "execution_count": 18,
   "metadata": {},
   "outputs": [
    {
     "data": {
      "text/plain": [
       "region                164693\n",
       "borrower_genders      112114\n",
       "date                  107893\n",
       "repayment_interval    107893\n",
       "term_in_months        107893\n",
       "country               107893\n",
       "sector                107893\n",
       "loan_amount           107893\n",
       "id                         0\n",
       "dtype: int64"
      ]
     },
     "execution_count": 18,
     "metadata": {},
     "output_type": "execute_result"
    }
   ],
   "source": [
    "kiva_loans.isnull().sum().sort_values(ascending=False)"
   ]
  },
  {
   "cell_type": "markdown",
   "metadata": {},
   "source": [
    "As the missing numbers are large in number, the analysis will be based on available values to avoid false information. "
   ]
  },
  {
   "cell_type": "markdown",
   "metadata": {},
   "source": [
    "However, the dataframe has multiple inconsistent entries in its borrower_genders column. I would like to get a cleaner gender column. "
   ]
  },
  {
   "cell_type": "code",
   "execution_count": 19,
   "metadata": {},
   "outputs": [],
   "source": [
    "kiva_loans['female_borrowers'] = kiva_loans['borrower_genders'].str.contains('female')"
   ]
  },
  {
   "cell_type": "code",
   "execution_count": 20,
   "metadata": {},
   "outputs": [],
   "source": [
    "kiva_loans.loc[kiva_loans['female_borrowers'] == True, 'gender'] = 'female'\n",
    "kiva_loans.loc[kiva_loans['female_borrowers'] == False, 'gender'] = 'male'"
   ]
  },
  {
   "cell_type": "code",
   "execution_count": 21,
   "metadata": {},
   "outputs": [],
   "source": [
    "kiva_loans.drop(['borrower_genders','female_borrowers'],axis=1,inplace=True)"
   ]
  },
  {
   "cell_type": "markdown",
   "metadata": {},
   "source": [
    "A personal preference, I would prefer working with the year the loan was given as opposed to the specific dates. "
   ]
  },
  {
   "cell_type": "code",
   "execution_count": 22,
   "metadata": {},
   "outputs": [],
   "source": [
    "kiva_loans['year'] = pd.DatetimeIndex(kiva_loans['date']).year\n",
    "kiva_loans.drop(['date'],axis=1,inplace=True)"
   ]
  },
  {
   "cell_type": "code",
   "execution_count": 23,
   "metadata": {},
   "outputs": [
    {
     "data": {
      "text/html": [
       "<div>\n",
       "<style scoped>\n",
       "    .dataframe tbody tr th:only-of-type {\n",
       "        vertical-align: middle;\n",
       "    }\n",
       "\n",
       "    .dataframe tbody tr th {\n",
       "        vertical-align: top;\n",
       "    }\n",
       "\n",
       "    .dataframe thead th {\n",
       "        text-align: right;\n",
       "    }\n",
       "</style>\n",
       "<table border=\"1\" class=\"dataframe\">\n",
       "  <thead>\n",
       "    <tr style=\"text-align: right;\">\n",
       "      <th></th>\n",
       "      <th>id</th>\n",
       "      <th>loan_amount</th>\n",
       "      <th>sector</th>\n",
       "      <th>country</th>\n",
       "      <th>region</th>\n",
       "      <th>term_in_months</th>\n",
       "      <th>repayment_interval</th>\n",
       "      <th>gender</th>\n",
       "      <th>year</th>\n",
       "    </tr>\n",
       "  </thead>\n",
       "  <tbody>\n",
       "    <tr>\n",
       "      <th>0</th>\n",
       "      <td>653051</td>\n",
       "      <td>300.0</td>\n",
       "      <td>Food</td>\n",
       "      <td>Pakistan</td>\n",
       "      <td>Lahore</td>\n",
       "      <td>12.0</td>\n",
       "      <td>irregular</td>\n",
       "      <td>female</td>\n",
       "      <td>2014.0</td>\n",
       "    </tr>\n",
       "    <tr>\n",
       "      <th>1</th>\n",
       "      <td>653053</td>\n",
       "      <td>575.0</td>\n",
       "      <td>Transportation</td>\n",
       "      <td>Pakistan</td>\n",
       "      <td>Lahore</td>\n",
       "      <td>11.0</td>\n",
       "      <td>irregular</td>\n",
       "      <td>female</td>\n",
       "      <td>2014.0</td>\n",
       "    </tr>\n",
       "    <tr>\n",
       "      <th>2</th>\n",
       "      <td>653068</td>\n",
       "      <td>150.0</td>\n",
       "      <td>Transportation</td>\n",
       "      <td>India</td>\n",
       "      <td>Maynaguri</td>\n",
       "      <td>43.0</td>\n",
       "      <td>bullet</td>\n",
       "      <td>female</td>\n",
       "      <td>2014.0</td>\n",
       "    </tr>\n",
       "    <tr>\n",
       "      <th>3</th>\n",
       "      <td>653063</td>\n",
       "      <td>200.0</td>\n",
       "      <td>Arts</td>\n",
       "      <td>Pakistan</td>\n",
       "      <td>Lahore</td>\n",
       "      <td>11.0</td>\n",
       "      <td>irregular</td>\n",
       "      <td>female</td>\n",
       "      <td>2014.0</td>\n",
       "    </tr>\n",
       "    <tr>\n",
       "      <th>4</th>\n",
       "      <td>653084</td>\n",
       "      <td>400.0</td>\n",
       "      <td>Food</td>\n",
       "      <td>Pakistan</td>\n",
       "      <td>Abdul Hakeem</td>\n",
       "      <td>14.0</td>\n",
       "      <td>monthly</td>\n",
       "      <td>female</td>\n",
       "      <td>2014.0</td>\n",
       "    </tr>\n",
       "  </tbody>\n",
       "</table>\n",
       "</div>"
      ],
      "text/plain": [
       "       id  loan_amount          sector   country        region  \\\n",
       "0  653051        300.0            Food  Pakistan        Lahore   \n",
       "1  653053        575.0  Transportation  Pakistan        Lahore   \n",
       "2  653068        150.0  Transportation     India     Maynaguri   \n",
       "3  653063        200.0            Arts  Pakistan        Lahore   \n",
       "4  653084        400.0            Food  Pakistan  Abdul Hakeem   \n",
       "\n",
       "   term_in_months repayment_interval  gender    year  \n",
       "0            12.0          irregular  female  2014.0  \n",
       "1            11.0          irregular  female  2014.0  \n",
       "2            43.0             bullet  female  2014.0  \n",
       "3            11.0          irregular  female  2014.0  \n",
       "4            14.0            monthly  female  2014.0  "
      ]
     },
     "execution_count": 23,
     "metadata": {},
     "output_type": "execute_result"
    }
   ],
   "source": [
    "kiva_loans.head()"
   ]
  },
  {
   "cell_type": "markdown",
   "metadata": {},
   "source": [
    " "
   ]
  },
  {
   "cell_type": "markdown",
   "metadata": {},
   "source": [
    "2. Preparing and cleaning the data for the region_data and loan_theme_region dataframes"
   ]
  },
  {
   "cell_type": "code",
   "execution_count": 24,
   "metadata": {},
   "outputs": [
    {
     "name": "stdout",
     "output_type": "stream",
     "text": [
      "<class 'pandas.core.frame.DataFrame'>\n",
      "Int64Index: 3032 entries, 0 to 3031\n",
      "Data columns (total 23 columns):\n",
      " #   Column              Non-Null Count  Dtype  \n",
      "---  ------              --------------  -----  \n",
      " 0   LocationName        1244 non-null   object \n",
      " 1   ISO                 1268 non-null   object \n",
      " 2   country             1268 non-null   object \n",
      " 3   region              1244 non-null   object \n",
      " 4   world_region        1268 non-null   object \n",
      " 5   MPI                 1244 non-null   float64\n",
      " 6   geo                 3032 non-null   object \n",
      " 7   lat                 1152 non-null   float64\n",
      " 8   lon                 1152 non-null   float64\n",
      " 9   Partner ID          351 non-null    float64\n",
      " 10  Field Partner Name  351 non-null    object \n",
      " 11  sector              351 non-null    object \n",
      " 12  Loan Theme ID       351 non-null    object \n",
      " 13  Loan Theme Type     351 non-null    object \n",
      " 14  forkiva             351 non-null    object \n",
      " 15  geocode_old         158 non-null    object \n",
      " 16  number              351 non-null    float64\n",
      " 17  amount              351 non-null    float64\n",
      " 18  geocode             351 non-null    object \n",
      " 19  names               351 non-null    object \n",
      " 20  mpi_region          351 non-null    object \n",
      " 21  mpi_geo             351 non-null    object \n",
      " 22  rural_pct           305 non-null    float64\n",
      "dtypes: float64(7), object(16)\n",
      "memory usage: 568.5+ KB\n"
     ]
    }
   ],
   "source": [
    "regional_data = pd.merge(region_data,loan_theme_region, on=['country','region','LocationName','ISO','geo','lat','lon'],\n",
    "                         how='left')\n",
    "regional_data.info()"
   ]
  },
  {
   "cell_type": "code",
   "execution_count": 25,
   "metadata": {},
   "outputs": [
    {
     "data": {
      "text/html": [
       "<div>\n",
       "<style scoped>\n",
       "    .dataframe tbody tr th:only-of-type {\n",
       "        vertical-align: middle;\n",
       "    }\n",
       "\n",
       "    .dataframe tbody tr th {\n",
       "        vertical-align: top;\n",
       "    }\n",
       "\n",
       "    .dataframe thead th {\n",
       "        text-align: right;\n",
       "    }\n",
       "</style>\n",
       "<table border=\"1\" class=\"dataframe\">\n",
       "  <thead>\n",
       "    <tr style=\"text-align: right;\">\n",
       "      <th></th>\n",
       "      <th>country</th>\n",
       "      <th>region</th>\n",
       "      <th>world_region</th>\n",
       "      <th>MPI</th>\n",
       "      <th>sector</th>\n",
       "      <th>amount</th>\n",
       "    </tr>\n",
       "  </thead>\n",
       "  <tbody>\n",
       "    <tr>\n",
       "      <th>0</th>\n",
       "      <td>Afghanistan</td>\n",
       "      <td>Badakhshan</td>\n",
       "      <td>South Asia</td>\n",
       "      <td>0.387</td>\n",
       "      <td>NaN</td>\n",
       "      <td>NaN</td>\n",
       "    </tr>\n",
       "    <tr>\n",
       "      <th>1</th>\n",
       "      <td>Afghanistan</td>\n",
       "      <td>Badghis</td>\n",
       "      <td>South Asia</td>\n",
       "      <td>0.466</td>\n",
       "      <td>NaN</td>\n",
       "      <td>NaN</td>\n",
       "    </tr>\n",
       "    <tr>\n",
       "      <th>2</th>\n",
       "      <td>Afghanistan</td>\n",
       "      <td>Baghlan</td>\n",
       "      <td>South Asia</td>\n",
       "      <td>0.300</td>\n",
       "      <td>NaN</td>\n",
       "      <td>NaN</td>\n",
       "    </tr>\n",
       "    <tr>\n",
       "      <th>3</th>\n",
       "      <td>Afghanistan</td>\n",
       "      <td>Balkh</td>\n",
       "      <td>South Asia</td>\n",
       "      <td>0.301</td>\n",
       "      <td>NaN</td>\n",
       "      <td>NaN</td>\n",
       "    </tr>\n",
       "    <tr>\n",
       "      <th>4</th>\n",
       "      <td>Afghanistan</td>\n",
       "      <td>Bamyan</td>\n",
       "      <td>South Asia</td>\n",
       "      <td>0.325</td>\n",
       "      <td>NaN</td>\n",
       "      <td>NaN</td>\n",
       "    </tr>\n",
       "  </tbody>\n",
       "</table>\n",
       "</div>"
      ],
      "text/plain": [
       "       country      region world_region    MPI sector  amount\n",
       "0  Afghanistan  Badakhshan   South Asia  0.387    NaN     NaN\n",
       "1  Afghanistan     Badghis   South Asia  0.466    NaN     NaN\n",
       "2  Afghanistan     Baghlan   South Asia  0.300    NaN     NaN\n",
       "3  Afghanistan       Balkh   South Asia  0.301    NaN     NaN\n",
       "4  Afghanistan      Bamyan   South Asia  0.325    NaN     NaN"
      ]
     },
     "execution_count": 25,
     "metadata": {},
     "output_type": "execute_result"
    }
   ],
   "source": [
    "regional_data.drop(['ISO','LocationName','geo','lat','lon','Partner ID','Field Partner Name','Loan Theme ID','Loan Theme Type',\n",
    "                  'forkiva','geocode_old','number','geocode','names','mpi_region','mpi_geo','rural_pct'],axis=1,inplace=True)\n",
    "\n",
    "#Display the summarized data\n",
    "regional_data.head()"
   ]
  },
  {
   "cell_type": "markdown",
   "metadata": {},
   "source": [
    " "
   ]
  },
  {
   "cell_type": "markdown",
   "metadata": {},
   "source": [
    "# Exploratory data analysis "
   ]
  },
  {
   "cell_type": "markdown",
   "metadata": {},
   "source": [
    "For this analysis, I would like look at the following information:\n",
    "1. Who is borrowing the money? - Gender\n",
    "2. What are they doing with the money? - Sector\n",
    "3. Where do they come from? - Country\n",
    "4. Poverty level? - MPI\n",
    "5. Loan repayment patterns? - Repayment Intervals and Term in months\n",
    "6. Regional data. "
   ]
  },
  {
   "cell_type": "markdown",
   "metadata": {},
   "source": [
    "# 1. Who is borrowing the money: Gender analysis of Kiva Borrowers "
   ]
  },
  {
   "cell_type": "code",
   "execution_count": 26,
   "metadata": {},
   "outputs": [
    {
     "data": {
      "image/png": "[encoded data removed]",
      "text/plain": [
       "<Figure size 1152x504 with 1 Axes>"
      ]
     },
     "metadata": {},
     "output_type": "display_data"
    }
   ],
   "source": [
    "gender = kiva_loans['gender'].value_counts()\n",
    "\n",
    "#Plot a pie-chart to show the gender and its percentages\n",
    "plt.figure(figsize=(16,7))\n",
    "\n",
    "plt.pie(gender.values, labels = gender.index, autopct = '%1.0f%%',startangle=90)\n",
    "plt.axis('equal')\n",
    "plt.title('KIVA BORROWERS ACCORDING TO GENDER', fontsize=20)\n",
    "plt.show()"
   ]
  },
  {
   "cell_type": "markdown",
   "metadata": {},
   "source": [
    "This visualization shows that most of Kiva's borrowers are female(79%). "
   ]
  },
  {
   "cell_type": "markdown",
   "metadata": {},
   "source": [
    " "
   ]
  },
  {
   "cell_type": "code",
   "execution_count": 27,
   "metadata": {},
   "outputs": [
    {
     "data": {
      "text/html": [
       "<div>\n",
       "<style scoped>\n",
       "    .dataframe tbody tr th:only-of-type {\n",
       "        vertical-align: middle;\n",
       "    }\n",
       "\n",
       "    .dataframe tbody tr th {\n",
       "        vertical-align: top;\n",
       "    }\n",
       "\n",
       "    .dataframe thead th {\n",
       "        text-align: right;\n",
       "    }\n",
       "</style>\n",
       "<table border=\"1\" class=\"dataframe\">\n",
       "  <thead>\n",
       "    <tr style=\"text-align: right;\">\n",
       "      <th></th>\n",
       "      <th>loan_amount</th>\n",
       "    </tr>\n",
       "    <tr>\n",
       "      <th>gender</th>\n",
       "      <th></th>\n",
       "    </tr>\n",
       "  </thead>\n",
       "  <tbody>\n",
       "    <tr>\n",
       "      <th>female</th>\n",
       "      <td>433544150.0</td>\n",
       "    </tr>\n",
       "    <tr>\n",
       "      <th>male</th>\n",
       "      <td>126923000.0</td>\n",
       "    </tr>\n",
       "  </tbody>\n",
       "</table>\n",
       "</div>"
      ],
      "text/plain": [
       "        loan_amount\n",
       "gender             \n",
       "female  433544150.0\n",
       "male    126923000.0"
      ]
     },
     "execution_count": 27,
     "metadata": {},
     "output_type": "execute_result"
    }
   ],
   "source": [
    "gender_loans = pd.pivot_table(kiva_loans, values=['loan_amount'], aggfunc=sum, index=['gender'])\n",
    "gender_loans\n"
   ]
  },
  {
   "cell_type": "markdown",
   "metadata": {},
   "source": [
    "Excat amount distributed among the genders "
   ]
  },
  {
   "cell_type": "markdown",
   "metadata": {},
   "source": [
    " "
   ]
  },
  {
   "cell_type": "markdown",
   "metadata": {},
   "source": [
    "# 2. What are they doing with the borrowed money: Sectors"
   ]
  },
  {
   "cell_type": "code",
   "execution_count": 28,
   "metadata": {},
   "outputs": [
    {
     "data": {
      "image/png": "[encoded data removed]",
      "text/plain": [
       "<Figure size 1152x504 with 1 Axes>"
      ]
     },
     "metadata": {
      "needs_background": "light"
     },
     "output_type": "display_data"
    }
   ],
   "source": [
    "sector = kiva_loans['sector'].value_counts()\n",
    "\n",
    "#Create a bar graph showing the different sectors.\n",
    "plt.figure(figsize=(16,7))\n",
    "\n",
    "sns.barplot(y=sector.values,x=sector.index)\n",
    "\n",
    "plt.ylabel('Loans',fontsize=20)\n",
    "plt.xlabel('Sector',fontsize=20)\n",
    "plt.title('LOANS GIVEN PER SECTOR',fontsize=20)\n",
    "plt.xticks(rotation=90)\n",
    "\n",
    "plt.show()"
   ]
  },
  {
   "cell_type": "markdown",
   "metadata": {},
   "source": [
    "The Agriculture sector receives the most funded loans while WholeSale and Entertainment received the least amount of loans. "
   ]
  },
  {
   "cell_type": "markdown",
   "metadata": {},
   "source": [
    " "
   ]
  },
  {
   "cell_type": "code",
   "execution_count": 29,
   "metadata": {},
   "outputs": [
    {
     "data": {
      "image/png": "[encoded data removed]",
      "text/plain": [
       "<Figure size 1152x504 with 1 Axes>"
      ]
     },
     "metadata": {},
     "output_type": "display_data"
    }
   ],
   "source": [
    "kiva_loans['female_count'] = kiva_loans['gender'].str.count('female')\n",
    "kiva_loans['male_count'] = kiva_loans['gender'].str.count('male')\n",
    "\n",
    "sns.set()\n",
    "\n",
    "sector_gender = kiva_loans.pivot_table(values=['female_count','male_count'],index=['sector'],aggfunc=sum)\n",
    "sector_gender.plot(figsize =(16,7),kind='bar')\n",
    "plt.ylabel('Loan Amount',fontsize=25)\n",
    "plt.xlabel('Sector',fontsize=25)\n",
    "plt.title('Loan Allocation According to Gender and Sector',fontsize=28)\n",
    "\n",
    "plt.show()\n"
   ]
  },
  {
   "cell_type": "markdown",
   "metadata": {},
   "source": [
    "However, when it comes to borrowing, the men are given preference in terms of loan allocation in all sectors with Agriculture, \n",
    "Food and Retail being the top 3 most funded sectors. "
   ]
  },
  {
   "cell_type": "markdown",
   "metadata": {},
   "source": [
    "  "
   ]
  },
  {
   "cell_type": "markdown",
   "metadata": {},
   "source": [
    "# 3. Where do most of Kiva borrowers come from? "
   ]
  },
  {
   "cell_type": "markdown",
   "metadata": {},
   "source": [
    "      "
   ]
  },
  {
   "cell_type": "markdown",
   "metadata": {},
   "source": [
    "3.1 Countries with most borrowers"
   ]
  },
  {
   "cell_type": "code",
   "execution_count": 30,
   "metadata": {},
   "outputs": [
    {
     "data": {
      "text/html": [
       "<div>\n",
       "<style scoped>\n",
       "    .dataframe tbody tr th:only-of-type {\n",
       "        vertical-align: middle;\n",
       "    }\n",
       "\n",
       "    .dataframe tbody tr th {\n",
       "        vertical-align: top;\n",
       "    }\n",
       "\n",
       "    .dataframe thead th {\n",
       "        text-align: right;\n",
       "    }\n",
       "</style>\n",
       "<table border=\"1\" class=\"dataframe\">\n",
       "  <thead>\n",
       "    <tr style=\"text-align: right;\">\n",
       "      <th></th>\n",
       "      <th>loan_amount</th>\n",
       "    </tr>\n",
       "    <tr>\n",
       "      <th>country</th>\n",
       "      <th></th>\n",
       "    </tr>\n",
       "  </thead>\n",
       "  <tbody>\n",
       "    <tr>\n",
       "      <th>Philippines</th>\n",
       "      <td>55342225.0</td>\n",
       "    </tr>\n",
       "    <tr>\n",
       "      <th>Kenya</th>\n",
       "      <td>34534300.0</td>\n",
       "    </tr>\n",
       "    <tr>\n",
       "      <th>United States</th>\n",
       "      <td>31496375.0</td>\n",
       "    </tr>\n",
       "    <tr>\n",
       "      <th>Peru</th>\n",
       "      <td>30867400.0</td>\n",
       "    </tr>\n",
       "    <tr>\n",
       "      <th>Paraguay</th>\n",
       "      <td>29629075.0</td>\n",
       "    </tr>\n",
       "    <tr>\n",
       "      <th>El Salvador</th>\n",
       "      <td>26603650.0</td>\n",
       "    </tr>\n",
       "    <tr>\n",
       "      <th>Cambodia</th>\n",
       "      <td>19872700.0</td>\n",
       "    </tr>\n",
       "    <tr>\n",
       "      <th>Bolivia</th>\n",
       "      <td>19843250.0</td>\n",
       "    </tr>\n",
       "    <tr>\n",
       "      <th>Rwanda</th>\n",
       "      <td>16646300.0</td>\n",
       "    </tr>\n",
       "    <tr>\n",
       "      <th>Uganda</th>\n",
       "      <td>15389350.0</td>\n",
       "    </tr>\n",
       "  </tbody>\n",
       "</table>\n",
       "</div>"
      ],
      "text/plain": [
       "               loan_amount\n",
       "country                   \n",
       "Philippines     55342225.0\n",
       "Kenya           34534300.0\n",
       "United States   31496375.0\n",
       "Peru            30867400.0\n",
       "Paraguay        29629075.0\n",
       "El Salvador     26603650.0\n",
       "Cambodia        19872700.0\n",
       "Bolivia         19843250.0\n",
       "Rwanda          16646300.0\n",
       "Uganda          15389350.0"
      ]
     },
     "execution_count": 30,
     "metadata": {},
     "output_type": "execute_result"
    }
   ],
   "source": [
    "country = kiva_loans['country'].value_counts()\n",
    "\n",
    "country_borrowers = pd.pivot_table(kiva_loans,index =['country'],values=['loan_amount' ],\n",
    "                                   aggfunc=sum).sort_values(by=['loan_amount'],ascending=False)\n",
    "\n",
    "country_borrowers.head(10)"
   ]
  },
  {
   "cell_type": "markdown",
   "metadata": {},
   "source": [
    "The above table comprises of the top 10 countries that borrow from Kiva. Phillipines, Kenya and The United States are the top 3 borrowers respectively."
   ]
  },
  {
   "cell_type": "markdown",
   "metadata": {},
   "source": [
    " "
   ]
  },
  {
   "cell_type": "markdown",
   "metadata": {},
   "source": [
    "3.2 Regional representation of Kiva Borrowers"
   ]
  },
  {
   "cell_type": "code",
   "execution_count": 31,
   "metadata": {},
   "outputs": [
    {
     "data": {
      "image/png": "[encoded data removed]",
      "text/plain": [
       "<Figure size 1152x504 with 1 Axes>"
      ]
     },
     "metadata": {},
     "output_type": "display_data"
    }
   ],
   "source": [
    "world_region = region_data['world_region'].value_counts()\n",
    "\n",
    "colors_list = ['#33e9ff','#5bc0de','#ff8633', '#ff3433','#33ff96','#ff43ff']\n",
    "ax = (world_region.div(world_region.sum(), axis=0)).plot(kind='bar',figsize=(16,7), color = colors_list,width = 0.8,\n",
    "                                                         edgecolor=None)\n",
    "\n",
    "plt.title('GLOBAL REGIONAL REPRESENTATION OF KIVA BORROWERS',fontsize=20)\n",
    "\n",
    "plt.xticks(fontsize=17)\n",
    "for spine in plt.gca().spines.values():\n",
    "    spine.set_visible(False)\n",
    "plt.yticks([])\n",
    "\n",
    "#Adding the annotations.\n",
    "for p in ax.patches:\n",
    "    width, height = p.get_width(), p.get_height()\n",
    "    x, y = p.get_xy() \n",
    "    ax.annotate('{:.0%}'.format(height), (x, y + height + 0.01),ha='center')\n",
    "    \n",
    "plt.show()\n"
   ]
  },
  {
   "cell_type": "markdown",
   "metadata": {},
   "source": [
    "Most the Kiva borrowers come from the Sub-Saharan Region with 43% of the countries while Europe and Central Asia has the least percentage of borrowers. "
   ]
  },
  {
   "cell_type": "markdown",
   "metadata": {},
   "source": [
    " According to this [report](https://www.ophi.org.uk/wp-content/uploads/ophi-wp-61.pdf), South Asia has the highest global MPI poor people distribution at 52.9%, followed by Sub-Saharan Africa then East Asia and the Pacific. However, Kiva doesn't seem to lend based on that criteria as South Asia only receives 8% of its loans. \n",
    "       \n",
    "         \n",
    " "
   ]
  },
  {
   "cell_type": "markdown",
   "metadata": {},
   "source": [
    " "
   ]
  },
  {
   "cell_type": "markdown",
   "metadata": {},
   "source": [
    "Relating these percentages to the Multidimensional Poverty Index(MPI):\n",
    "\n",
    "MPI identifies multiple deprivations at the household and individual level in health, education and standard of living."
   ]
  },
  {
   "cell_type": "code",
   "execution_count": 32,
   "metadata": {},
   "outputs": [
    {
     "data": {
      "text/html": [
       "<div>\n",
       "<style scoped>\n",
       "    .dataframe tbody tr th:only-of-type {\n",
       "        vertical-align: middle;\n",
       "    }\n",
       "\n",
       "    .dataframe tbody tr th {\n",
       "        vertical-align: top;\n",
       "    }\n",
       "\n",
       "    .dataframe thead th {\n",
       "        text-align: right;\n",
       "    }\n",
       "</style>\n",
       "<table border=\"1\" class=\"dataframe\">\n",
       "  <thead>\n",
       "    <tr style=\"text-align: right;\">\n",
       "      <th></th>\n",
       "      <th>MPI</th>\n",
       "      <th>MPI (%)</th>\n",
       "    </tr>\n",
       "    <tr>\n",
       "      <th>world_region</th>\n",
       "      <th></th>\n",
       "      <th></th>\n",
       "    </tr>\n",
       "  </thead>\n",
       "  <tbody>\n",
       "    <tr>\n",
       "      <th>Sub-Saharan Africa</th>\n",
       "      <td>158.285</td>\n",
       "      <td>67.544444</td>\n",
       "    </tr>\n",
       "    <tr>\n",
       "      <th>East Asia and the Pacific</th>\n",
       "      <td>23.280</td>\n",
       "      <td>9.934199</td>\n",
       "    </tr>\n",
       "    <tr>\n",
       "      <th>Latin America and Caribbean</th>\n",
       "      <td>19.811</td>\n",
       "      <td>8.453884</td>\n",
       "    </tr>\n",
       "    <tr>\n",
       "      <th>South Asia</th>\n",
       "      <td>17.790</td>\n",
       "      <td>7.591469</td>\n",
       "    </tr>\n",
       "    <tr>\n",
       "      <th>Arab States</th>\n",
       "      <td>14.432</td>\n",
       "      <td>6.158520</td>\n",
       "    </tr>\n",
       "    <tr>\n",
       "      <th>Europe and Central Asia</th>\n",
       "      <td>0.744</td>\n",
       "      <td>0.317485</td>\n",
       "    </tr>\n",
       "  </tbody>\n",
       "</table>\n",
       "</div>"
      ],
      "text/plain": [
       "                                 MPI    MPI (%)\n",
       "world_region                                   \n",
       "Sub-Saharan Africa           158.285  67.544444\n",
       "East Asia and the Pacific     23.280   9.934199\n",
       "Latin America and Caribbean   19.811   8.453884\n",
       "South Asia                    17.790   7.591469\n",
       "Arab States                   14.432   6.158520\n",
       "Europe and Central Asia        0.744   0.317485"
      ]
     },
     "execution_count": 32,
     "metadata": {},
     "output_type": "execute_result"
    }
   ],
   "source": [
    "world_region = regional_data['world_region'].value_counts()\n",
    "\n",
    "world_region = pd.pivot_table(regional_data,index =['world_region'],values=['MPI' ],\n",
    "                                   aggfunc=sum).sort_values(by=['MPI'],ascending=False)\n",
    "\n",
    "world_region['MPI (%)'] = (world_region.MPI/world_region.MPI.sum()*100)\n",
    "\n",
    "world_region"
   ]
  },
  {
   "cell_type": "markdown",
   "metadata": {},
   "source": [
    " "
   ]
  },
  {
   "cell_type": "markdown",
   "metadata": {},
   "source": [
    "# 4. Loan repayment patterns"
   ]
  },
  {
   "cell_type": "code",
   "execution_count": 33,
   "metadata": {},
   "outputs": [
    {
     "data": {
      "image/png": "[encoded data removed]",
      "text/plain": [
       "<Figure size 1152x648 with 1 Axes>"
      ]
     },
     "metadata": {},
     "output_type": "display_data"
    }
   ],
   "source": [
    "loan_repayment = kiva_loans['repayment_interval'].value_counts()\n",
    "\n",
    "#Plot a pie-chart to show the gender and its percentages\n",
    "plt.figure(figsize=(16,9))\n",
    "\n",
    "plt.pie(loan_repayment.values, autopct = '%1.0f%%',startangle=90)\n",
    "plt.axis('equal')\n",
    "plt.title('PATTERNS OF LOAN RE-PAYMENT', fontsize=20)\n",
    "plt.legend(loan_repayment.index,loc='best',fontsize=16)\n",
    "plt.show()"
   ]
  },
  {
   "cell_type": "markdown",
   "metadata": {},
   "source": [
    "Most of the Kiva loan borrowers(51%) have a monthly repayment plan with the instituition. While a negligible percentage repay their loans weeekly. "
   ]
  },
  {
   "cell_type": "markdown",
   "metadata": {},
   "source": [
    " "
   ]
  },
  {
   "cell_type": "code",
   "execution_count": 34,
   "metadata": {},
   "outputs": [
    {
     "data": {
      "image/png": "[encoded data removed]",
      "text/plain": [
       "<Figure size 1152x504 with 1 Axes>"
      ]
     },
     "metadata": {},
     "output_type": "display_data"
    }
   ],
   "source": [
    "kiva_loans['female_count'] = kiva_loans['gender'].str.count('female')\n",
    "kiva_loans['male_count'] = kiva_loans['gender'].str.count('male')\n",
    "\n",
    "terms = pd.pivot_table(kiva_loans,index =['repayment_interval'],values=['female_count','male_count'],\n",
    "                                   aggfunc=sum)\n",
    "\n",
    "terms.plot(figsize =(16,7),kind='bar',)\n",
    "plt.ylabel('Count',fontsize=25)\n",
    "plt.xlabel('Repayment Methods',fontsize=25)\n",
    "\n",
    "plt.title('LOAN REPAYMENT AGAINST GENDER',fontsize=28)\n",
    "plt.show()\n",
    "\n"
   ]
  },
  {
   "cell_type": "markdown",
   "metadata": {},
   "source": [
    " All loan repayment methods favored men more. "
   ]
  },
  {
   "cell_type": "code",
   "execution_count": null,
   "metadata": {},
   "outputs": [],
   "source": []
  },
  {
   "cell_type": "markdown",
   "metadata": {},
   "source": [
    " "
   ]
  }
 ],
 "metadata": {
  "kernelspec": {
   "display_name": "Python 3",
   "language": "python",
   "name": "python3"
  },
  "language_info": {
   "codemirror_mode": {
    "name": "ipython",
    "version": 3
   },
   "file_extension": ".py",
   "mimetype": "text/x-python",
   "name": "python",
   "nbconvert_exporter": "python",
   "pygments_lexer": "ipython3",
   "version": "3.7.7"
  }
 },
 "nbformat": 4,
 "nbformat_minor": 4
}
